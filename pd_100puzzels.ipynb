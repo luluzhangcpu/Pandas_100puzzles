{
 "cells": [
  {
   "cell_type": "code",
   "execution_count": 1,
   "metadata": {},
   "outputs": [],
   "source": [
    "# 100-pandas-puzzles\n",
    "import numpy as np\n",
    "\n",
    "# task1-- Import pandas under the alias pd.\n",
    "# 引入 pandas，并另名为 pd\n",
    "import pandas as pd"
   ]
  },
  {
   "cell_type": "code",
   "execution_count": 2,
   "metadata": {},
   "outputs": [
    {
     "name": "stdout",
     "output_type": "stream",
     "text": [
      "1.0.1\n"
     ]
    }
   ],
   "source": [
    "# task2-- Print the version of pandas that has been imported\n",
    "# 显示 pandas 的版本\n",
    "a = pd.__version__\n",
    "print(a)"
   ]
  },
  {
   "cell_type": "code",
   "execution_count": 3,
   "metadata": {},
   "outputs": [
    {
     "name": "stdout",
     "output_type": "stream",
     "text": [
      "\n",
      "INSTALLED VERSIONS\n",
      "------------------\n",
      "commit           : None\n",
      "python           : 3.7.6.final.0\n",
      "python-bits      : 64\n",
      "OS               : Darwin\n",
      "OS-release       : 21.3.0\n",
      "machine          : x86_64\n",
      "processor        : i386\n",
      "byteorder        : little\n",
      "LC_ALL           : en_US.UTF-8\n",
      "LANG             : zh_CN.UTF-8\n",
      "LOCALE           : en_US.UTF-8\n",
      "\n",
      "pandas           : 1.0.1\n",
      "numpy            : 1.18.1\n",
      "pytz             : 2019.3\n",
      "dateutil         : 2.8.1\n",
      "pip              : 20.0.2\n",
      "setuptools       : 46.0.0.post20200309\n",
      "Cython           : 0.29.15\n",
      "pytest           : 5.3.5\n",
      "hypothesis       : 5.5.4\n",
      "sphinx           : 2.4.0\n",
      "blosc            : None\n",
      "feather          : None\n",
      "xlsxwriter       : 1.2.7\n",
      "lxml.etree       : 4.5.0\n",
      "html5lib         : 1.0.1\n",
      "pymysql          : None\n",
      "psycopg2         : None\n",
      "jinja2           : 2.11.1\n",
      "IPython          : 7.12.0\n",
      "pandas_datareader: None\n",
      "bs4              : 4.8.2\n",
      "bottleneck       : 1.3.2\n",
      "fastparquet      : None\n",
      "gcsfs            : None\n",
      "lxml.etree       : 4.5.0\n",
      "matplotlib       : 3.1.3\n",
      "numexpr          : 2.7.1\n",
      "odfpy            : None\n",
      "openpyxl         : 3.0.3\n",
      "pandas_gbq       : None\n",
      "pyarrow          : None\n",
      "pytables         : None\n",
      "pytest           : 5.3.5\n",
      "pyxlsb           : None\n",
      "s3fs             : None\n",
      "scipy            : 1.4.1\n",
      "sqlalchemy       : 1.3.13\n",
      "tables           : 3.6.1\n",
      "tabulate         : None\n",
      "xarray           : None\n",
      "xlrd             : 1.2.0\n",
      "xlwt             : 1.3.0\n",
      "xlsxwriter       : 1.2.7\n",
      "numba            : 0.48.0\n",
      "None\n"
     ]
    }
   ],
   "source": [
    "# task3\n",
    "# Print out all the version information of\n",
    "# the libraries that are required by the pandas library.\n",
    "# 显示 目前在库里的 pandas 所有版本 信息\n",
    "b = pd.show_versions()\n",
    "print(b)"
   ]
  },
  {
   "cell_type": "code",
   "execution_count": 4,
   "metadata": {},
   "outputs": [
    {
     "name": "stdout",
     "output_type": "stream",
     "text": [
      "  animal  age  visits priority\n",
      "a    cat  2.5       1      yes\n",
      "b    cat  3.0       3      yes\n",
      "c  snake  0.5       2       no\n",
      "d    dog  NaN       3      yes\n",
      "e    dog  5.0       2       no\n",
      "f    cat  2.0       3       no\n",
      "g  snake  4.5       1       no\n",
      "h    cat  NaN       1      yes\n",
      "i    dog  7.0       2       no\n",
      "j    dog  3.0       1       no\n"
     ]
    }
   ],
   "source": [
    "# task4\n",
    "# Create a DataFrame df from this dictionary data which has the index labels.\n",
    "# 从这个字典数据创建一个DataFrame df，它有索引标签。\n",
    "data1 = {'animal':['cat','cat','snake','dog','dog','cat','snake','cat','dog','dog'],\\\n",
    "         'age':[2.5,3,0.5,np.nan,5,2,4.5,np.nan,7,3],\\\n",
    "         'visits':[1,3,2,3,2,3,1,1,2,1],\\\n",
    "         'priority':['yes','yes','no','yes','no','no','no','yes','no','no']}\n",
    "labels = list('abcdefghij')\n",
    "df1 = pd.DataFrame(data1,index=labels)\n",
    "print(df1)"
   ]
  },
  {
   "cell_type": "code",
   "execution_count": 5,
   "metadata": {},
   "outputs": [
    {
     "name": "stdout",
     "output_type": "stream",
     "text": [
      "<class 'pandas.core.frame.DataFrame'>\n",
      "Index: 10 entries, a to j\n",
      "Data columns (total 4 columns):\n",
      " #   Column    Non-Null Count  Dtype  \n",
      "---  ------    --------------  -----  \n",
      " 0   animal    10 non-null     object \n",
      " 1   age       8 non-null      float64\n",
      " 2   visits    10 non-null     int64  \n",
      " 3   priority  10 non-null     object \n",
      "dtypes: float64(1), int64(1), object(2)\n",
      "memory usage: 400.0+ bytes\n",
      "None\n",
      "------------------------------\n",
      "            age     visits\n",
      "count  8.000000  10.000000\n",
      "mean   3.437500   1.900000\n",
      "std    2.007797   0.875595\n",
      "min    0.500000   1.000000\n",
      "25%    2.375000   1.000000\n",
      "50%    3.000000   2.000000\n",
      "75%    4.625000   2.750000\n",
      "max    7.000000   3.000000\n"
     ]
    }
   ],
   "source": [
    "# task5\n",
    "# Display a summary of the basic information\n",
    "# about this DataFrame and its data\n",
    "# (hint: there is a single method that can be called on the DataFrame).\n",
    "# 显示关于这个DataFrame及其数据的基本信息的摘要(提示:有一个方法可以在DataFrame上调用)。\n",
    "print(df1.info())\n",
    "print('-'*30)\n",
    "print(df1.describe())"
   ]
  },
  {
   "cell_type": "code",
   "execution_count": 6,
   "metadata": {},
   "outputs": [
    {
     "name": "stdout",
     "output_type": "stream",
     "text": [
      "  animal  age  visits priority\n",
      "a    cat  2.5       1      yes\n",
      "b    cat  3.0       3      yes\n",
      "c  snake  0.5       2       no\n",
      "------------------------------\n",
      "  animal  age  visits priority\n",
      "a    cat  2.5       1      yes\n",
      "b    cat  3.0       3      yes\n",
      "c  snake  0.5       2       no\n",
      "------------------------------\n",
      "  animal  age  visits priority\n",
      "a    cat  2.5       1      yes\n",
      "b    cat  3.0       3      yes\n",
      "c  snake  0.5       2       no\n"
     ]
    }
   ],
   "source": [
    "# task6\n",
    "# Return the first 3 rows of the DataFrame df.\n",
    "# 返回DataFrame df的前3行\n",
    "print(df1.head(3))\n",
    "print('-'*30)\n",
    "print(df1.iloc[:3])\n",
    "print('-'*30)\n",
    "print(df1[:3])"
   ]
  },
  {
   "cell_type": "code",
   "execution_count": 7,
   "metadata": {},
   "outputs": [
    {
     "name": "stdout",
     "output_type": "stream",
     "text": [
      "  animal  age\n",
      "a    cat  2.5\n",
      "b    cat  3.0\n",
      "c  snake  0.5\n",
      "d    dog  NaN\n",
      "e    dog  5.0\n",
      "f    cat  2.0\n",
      "g  snake  4.5\n",
      "h    cat  NaN\n",
      "i    dog  7.0\n",
      "j    dog  3.0\n",
      "------------------------------\n",
      "  animal  age\n",
      "a    cat  2.5\n",
      "b    cat  3.0\n",
      "c  snake  0.5\n",
      "d    dog  NaN\n",
      "e    dog  5.0\n",
      "f    cat  2.0\n",
      "g  snake  4.5\n",
      "h    cat  NaN\n",
      "i    dog  7.0\n",
      "j    dog  3.0\n"
     ]
    }
   ],
   "source": [
    "# task7\n",
    "# Select just the 'animal' and 'age' columns from the DataFrame df.\n",
    "# 从DataFrame df中只选择“动物”和“年龄”列。\n",
    "a = df1[['animal','age']]\n",
    "b = df1.loc[:,['animal','age']]\n",
    "print(a)\n",
    "print('-'*30)\n",
    "print(b)"
   ]
  },
  {
   "cell_type": "code",
   "execution_count": 8,
   "metadata": {},
   "outputs": [
    {
     "name": "stdout",
     "output_type": "stream",
     "text": [
      "  animal  age\n",
      "d    dog  NaN\n",
      "e    dog  5.0\n",
      "i    dog  7.0\n",
      "------------------------------\n",
      "  animal  age\n",
      "d    dog  NaN\n",
      "e    dog  5.0\n",
      "i    dog  7.0\n",
      "------------------------------\n"
     ]
    }
   ],
   "source": [
    "# task8\n",
    "# Select the data in rows [3, 4, 8] and in columns ['animal', 'age'].\n",
    "# 选择行[3,4,8]和列['animal'， 'age']中的数据\n",
    "a = df1.iloc[[3,4,8]].loc[:,['animal','age']]\n",
    "b = df1.loc[df1.index[[3,4,8]],['animal','age']]\n",
    "print(a)\n",
    "print('-' * 30)\n",
    "print(b)\n",
    "print('-' * 30)"
   ]
  },
  {
   "cell_type": "code",
   "execution_count": 9,
   "metadata": {},
   "outputs": [
    {
     "name": "stdout",
     "output_type": "stream",
     "text": [
      "Empty DataFrame\n",
      "Columns: [animal, age, visits, priority]\n",
      "Index: []\n"
     ]
    }
   ],
   "source": [
    "# task9\n",
    "# Select only the rows where the number of visits is greater than 3\n",
    "# 只选择访问次数大于3的行\n",
    "a = df1[df1['visits'] > 3]\n",
    "print(a)"
   ]
  },
  {
   "cell_type": "code",
   "execution_count": 10,
   "metadata": {},
   "outputs": [
    {
     "name": "stdout",
     "output_type": "stream",
     "text": [
      "  animal  age  visits priority\n",
      "d    dog  NaN       3      yes\n",
      "h    cat  NaN       1      yes\n"
     ]
    }
   ],
   "source": [
    "# task10\n",
    "# Select the rows where the age is missing, i.e. it is NaN\n",
    "# 选择 age 缺失的行，即为NaN的行\n",
    "a = df1[df1['age'].isnull()]\n",
    "print(a)"
   ]
  },
  {
   "cell_type": "code",
   "execution_count": 11,
   "metadata": {},
   "outputs": [
    {
     "name": "stdout",
     "output_type": "stream",
     "text": [
      "  animal  age  visits priority\n",
      "a    cat  2.5       1      yes\n",
      "f    cat  2.0       3       no\n"
     ]
    }
   ],
   "source": [
    "# task11\n",
    "# Select the rows where the animal is a cat and the age is less than 3\n",
    "# 选择动物为猫且年龄小于3岁的行\n",
    "a = df1['animal'] == 'cat'\n",
    "b = df1['age'] < 3\n",
    "c = df1[a & b]\n",
    "print(c)"
   ]
  },
  {
   "cell_type": "code",
   "execution_count": 12,
   "metadata": {},
   "outputs": [
    {
     "name": "stdout",
     "output_type": "stream",
     "text": [
      "  animal  age  visits priority\n",
      "a    cat  2.5       1      yes\n",
      "b    cat  3.0       3      yes\n",
      "f    cat  2.0       3       no\n",
      "j    dog  3.0       1       no\n",
      "------------------------------\n",
      "a     True\n",
      "b     True\n",
      "c    False\n",
      "d    False\n",
      "e    False\n",
      "f     True\n",
      "g    False\n",
      "h    False\n",
      "i    False\n",
      "j     True\n",
      "Name: age, dtype: bool\n",
      "------------------------------\n",
      "  animal  age  visits priority\n",
      "a    cat  2.5       1      yes\n",
      "b    cat  3.0       3      yes\n",
      "f    cat  2.0       3       no\n",
      "j    dog  3.0       1       no\n"
     ]
    }
   ],
   "source": [
    "# task12\n",
    "# Select the rows the age is between 2 and 4 (inclusive)\n",
    "a = df1['age'] >= 2\n",
    "b = df1['age'] <= 4\n",
    "c = df1[a & b]\n",
    "print(c)\n",
    "print('-'*30)\n",
    "d = df1['age'].between(2,4)\n",
    "print(d)\n",
    "print('-'*30)\n",
    "e = df1[d]\n",
    "print(e)"
   ]
  },
  {
   "cell_type": "code",
   "execution_count": 13,
   "metadata": {},
   "outputs": [
    {
     "name": "stdout",
     "output_type": "stream",
     "text": [
      "  animal  age  visits priority\n",
      "a    cat  2.5       1      yes\n",
      "b    cat  3.0       3      yes\n",
      "c  snake  0.5       2       no\n",
      "d    dog  NaN       3      yes\n",
      "e    dog  5.0       2       no\n",
      "f    cat  1.5       3       no\n",
      "g  snake  4.5       1       no\n",
      "h    cat  NaN       1      yes\n",
      "i    dog  7.0       2       no\n",
      "j    dog  3.0       1       no\n"
     ]
    }
   ],
   "source": [
    "# task13\n",
    "# Change the age in row 'f' to 1.5\n",
    "# 将“f”行中的年龄改为1.5\n",
    "df1.loc['f','age'] = 1.5\n",
    "print(df1)"
   ]
  },
  {
   "cell_type": "code",
   "execution_count": 14,
   "metadata": {},
   "outputs": [
    {
     "name": "stdout",
     "output_type": "stream",
     "text": [
      "19\n"
     ]
    }
   ],
   "source": [
    "# task14\n",
    "# Calculate the sum of all visits in df (i.e. find the total number of visits)\n",
    "# 以df计算所有访问次数的总和(即找出总访问次数)\n",
    "a = df1['visits'].sum()\n",
    "print(a)"
   ]
  },
  {
   "cell_type": "code",
   "execution_count": 15,
   "metadata": {},
   "outputs": [
    {
     "name": "stdout",
     "output_type": "stream",
     "text": [
      "animal\n",
      "cat      2.333333\n",
      "dog      5.000000\n",
      "snake    2.500000\n",
      "Name: age, dtype: float64\n"
     ]
    }
   ],
   "source": [
    "# task15\n",
    "# Calculate the mean age for each different animal in df.\n",
    "# 用df计算每个不同动物的平均年龄\n",
    "a = df1['age'].groupby(df1['animal']).mean()\n",
    "print(a)"
   ]
  },
  {
   "cell_type": "code",
   "execution_count": 17,
   "metadata": {},
   "outputs": [
    {
     "name": "stdout",
     "output_type": "stream",
     "text": [
      "  animal  age  visits priority\n",
      "a    cat  2.5       1      yes\n",
      "b    cat  3.0       3      yes\n",
      "c  snake  0.5       2       no\n",
      "d    dog  NaN       3      yes\n",
      "e    dog  5.0       2       no\n",
      "f    cat  1.5       3       no\n",
      "g  snake  4.5       1       no\n",
      "h    cat  NaN       1      yes\n",
      "i    dog  7.0       2       no\n",
      "j    dog  3.0       1       no\n",
      "k    pig  3.0       1      yes\n",
      "------------------------------\n",
      "  animal  age  visits priority\n",
      "a    cat  2.5       1      yes\n",
      "b    cat  3.0       3      yes\n",
      "c  snake  0.5       2       no\n",
      "d    dog  NaN       3      yes\n",
      "e    dog  5.0       2       no\n",
      "f    cat  1.5       3       no\n",
      "g  snake  4.5       1       no\n",
      "h    cat  NaN       1      yes\n",
      "i    dog  7.0       2       no\n",
      "j    dog  3.0       1       no\n",
      "------------------------------\n",
      "  animal  age  visits priority\n",
      "a    cat  2.5       1      yes\n",
      "b    cat  3.0       3      yes\n",
      "c  snake  0.5       2       no\n",
      "d    dog  NaN       3      yes\n",
      "e    dog  5.0       2       no\n",
      "f    cat  1.5       3       no\n",
      "g  snake  4.5       1       no\n",
      "h    cat  NaN       1      yes\n",
      "i    dog  7.0       2       no\n",
      "j    dog  3.0       1       no\n",
      "k    dog  5.5       2       no\n",
      "------------------------------\n",
      "  animal  age  visits priority\n",
      "a    cat  2.5       1      yes\n",
      "b    cat  3.0       3      yes\n",
      "c  snake  0.5       2       no\n",
      "d    dog  NaN       3      yes\n",
      "e    dog  5.0       2       no\n",
      "f    cat  1.5       3       no\n",
      "g  snake  4.5       1       no\n",
      "h    cat  NaN       1      yes\n",
      "i    dog  7.0       2       no\n",
      "j    dog  3.0       1       no\n"
     ]
    }
   ],
   "source": [
    "# task16\n",
    "# Append a new row 'k' to df with your choice of values for each column.\n",
    "# Then delete that row to return the original DataFrame.\n",
    "# 将新行'k'附加到df，并为每一列选择值。然后删除该行以返回原始DataFrame。\n",
    "df2 = df1.copy()\n",
    "df2.loc['k'] = {'animal':'pig','age':3,'visits':1,'priority':'yes'}\n",
    "print(df2)\n",
    "print('-'*30)\n",
    "df2.drop('k',inplace=True)\n",
    "print(df2)\n",
    "# 另一种做法\n",
    "print('-'*30)\n",
    "df1.loc['k'] = ['dog',5.5,2,'no']\n",
    "print(df1)\n",
    "print('-'*30)\n",
    "df1 = df1.drop('k')\n",
    "print(df1)"
   ]
  },
  {
   "cell_type": "code",
   "execution_count": 18,
   "metadata": {},
   "outputs": [
    {
     "name": "stdout",
     "output_type": "stream",
     "text": [
      "cat      4\n",
      "dog      4\n",
      "snake    2\n",
      "Name: animal, dtype: int64\n"
     ]
    }
   ],
   "source": [
    "# task17\n",
    "# Count the number of each type of animal in df\n",
    "# 在df中数出每种动物的数量\n",
    "a = df1['animal'].value_counts()\n",
    "print(a)"
   ]
  },
  {
   "cell_type": "code",
   "execution_count": 19,
   "metadata": {},
   "outputs": [
    {
     "name": "stdout",
     "output_type": "stream",
     "text": [
      "  animal  age  visits priority\n",
      "i    dog  7.0       2       no\n",
      "e    dog  5.0       2       no\n",
      "g  snake  4.5       1       no\n",
      "j    dog  3.0       1       no\n",
      "b    cat  3.0       3      yes\n",
      "a    cat  2.5       1      yes\n",
      "f    cat  1.5       3       no\n",
      "c  snake  0.5       2       no\n",
      "h    cat  NaN       1      yes\n",
      "d    dog  NaN       3      yes\n"
     ]
    }
   ],
   "source": [
    "# task18\n",
    "# Sort df first by the values in the 'age' in decending order,\n",
    "# then by the value in the 'visits' column in ascending order\n",
    "# (so row i should be first, and row d should be last).\n",
    "# 首先对“age”中的值进行降序排序，然后对“visits”列中的值进行升序排序\n",
    "# 因此第i行应该是第一个，第d行应该是最后一个\n",
    "df1.sort_values(['age','visits'],ascending=[False,True],inplace=True)\n",
    "print(df1)"
   ]
  },
  {
   "cell_type": "code",
   "execution_count": 20,
   "metadata": {},
   "outputs": [
    {
     "name": "stdout",
     "output_type": "stream",
     "text": [
      "  animal  age  visits  priority\n",
      "i    dog  7.0       2     False\n",
      "e    dog  5.0       2     False\n",
      "g  snake  4.5       1     False\n",
      "j    dog  3.0       1     False\n",
      "b    cat  3.0       3      True\n",
      "a    cat  2.5       1      True\n",
      "f    cat  1.5       3     False\n",
      "c  snake  0.5       2     False\n",
      "h    cat  NaN       1      True\n",
      "d    dog  NaN       3      True\n",
      "------------------------------\n",
      "  animal  age  visits  priority\n",
      "i    dog  7.0       2     False\n",
      "e    dog  5.0       2     False\n",
      "g  snake  4.5       1     False\n",
      "j    dog  3.0       1     False\n",
      "b    cat  3.0       3      True\n",
      "a    cat  2.5       1      True\n",
      "f    cat  1.5       3     False\n",
      "c  snake  0.5       2     False\n",
      "h    cat  NaN       1      True\n",
      "d    dog  NaN       3      True\n"
     ]
    }
   ],
   "source": [
    "# task19\n",
    "# The 'priority' column contains the values 'yes' and 'no'.\n",
    "# Replace this column with a column of boolean values:\n",
    "# 'yes' should be True and 'no' should be False\n",
    "# “priority”列包含值“yes”和“no”。将此列替换为布尔值列:'yes'应为True， 'no'应为False\n",
    "df2 = df1.copy()\n",
    "df2['priority'] = np.where(df2['priority'] == 'yes',True,False)\n",
    "print(df2)\n",
    "# 第二种做法\n",
    "print('-'*30)\n",
    "df1['priority'] = df1['priority'].map({'yes':True,'no':False})\n",
    "print(df1)"
   ]
  },
  {
   "cell_type": "code",
   "execution_count": 21,
   "metadata": {},
   "outputs": [
    {
     "name": "stdout",
     "output_type": "stream",
     "text": [
      "   animal  age  visits  priority\n",
      "i     dog  7.0       2     False\n",
      "e     dog  5.0       2     False\n",
      "g  python  4.5       1     False\n",
      "j     dog  3.0       1     False\n",
      "b     cat  3.0       3      True\n",
      "a     cat  2.5       1      True\n",
      "f     cat  1.5       3     False\n",
      "c  python  0.5       2     False\n",
      "h     cat  NaN       1      True\n",
      "d     dog  NaN       3      True\n"
     ]
    }
   ],
   "source": [
    "# task20\n",
    "# In the 'animal' column, change the 'snake' entries to 'python'.\n",
    "# 在“动物”栏中，将“蛇”条目改为“python”。\n",
    "# df1.loc[df1['animal'] == 'snake','animal'] = 'python'\n",
    "# print(df1)\n",
    "# 第二种做法\n",
    "df1['animal'] = df1['animal'].replace('snake','python')\n",
    "print(df1)"
   ]
  },
  {
   "cell_type": "code",
   "execution_count": 22,
   "metadata": {},
   "outputs": [
    {
     "name": "stdout",
     "output_type": "stream",
     "text": [
      "visits    1    2     3\n",
      "animal                \n",
      "cat     2.5  NaN  2.25\n",
      "dog     3.0  6.0   NaN\n",
      "python  4.5  0.5   NaN\n",
      "------------------------------\n",
      "visits    1    2     3\n",
      "animal                \n",
      "cat     2.5  NaN  2.25\n",
      "dog     3.0  6.0   NaN\n",
      "python  4.5  0.5   NaN\n"
     ]
    }
   ],
   "source": [
    "# task21\n",
    "# For each animal type and each number of visits,\n",
    "# find the mean age. In other words, each row is an animal,\n",
    "# each column is a number of visits and the values are the mean ages\n",
    "# (hint: use a pivot table).\n",
    "# 对于每种动物类型和每次探访次数，求其平均年龄。\n",
    "# 换句话说，每一行是一个动物，每一列是访问次数，值是平均年龄(提示:使用数据透视表)。\n",
    "a = pd.pivot_table(df1,index='animal',columns='visits',values='age',aggfunc='mean')\n",
    "print(a)\n",
    "print('-'*30)\n",
    "# 第二种做法\n",
    "b = df1.pivot_table(index='animal',columns='visits',values='age',aggfunc='mean')\n",
    "print(b)"
   ]
  },
  {
   "cell_type": "code",
   "execution_count": 23,
   "metadata": {},
   "outputs": [
    {
     "name": "stdout",
     "output_type": "stream",
     "text": [
      "   A\n",
      "0  1\n",
      "1  2\n",
      "3  3\n",
      "4  4\n",
      "5  5\n",
      "8  6\n",
      "9  7\n",
      "   A\n",
      "0  1\n",
      "1  2\n",
      "3  3\n",
      "4  4\n",
      "5  5\n",
      "8  6\n",
      "9  7\n"
     ]
    }
   ],
   "source": [
    "# task22\n",
    "# You have a DataFrame df with a column 'A' of integers. For example:\n",
    "# df = pd.DataFrame({'A': [1, 2, 2, 3, 4, 5, 5, 5, 6, 7, 7]})\n",
    "# How do you filter out rows which contain the same integer as the row immediately above?\n",
    "# You should be left with a column containing the following values:1, 2, 3, 4, 5, 6, 7\n",
    "# 你有一个DataFrame df，有一列 'a' 的整数。例如:\n",
    "# df = pd.DataFrame ({A:(1、2、2、3、4、5、5、5、6、7、7]})\n",
    "# 如何过滤出包含与上一行相同的整数的行?\n",
    "# 你应该留下一列包含以下值:1 2 3 4 5 6 7\n",
    "df1 = pd.DataFrame({'A':[1,2,2,3,4,5,5,5,6,7,7]})\n",
    "df2 = df1.copy()\n",
    "# 第一种做法\n",
    "a = df2.loc[df2['A'].shift() != df2['A']]\n",
    "print(a)\n",
    "# 第二种做法\n",
    "print(df1.drop_duplicates())"
   ]
  },
  {
   "cell_type": "code",
   "execution_count": 26,
   "metadata": {},
   "outputs": [
    {
     "name": "stdout",
     "output_type": "stream",
     "text": [
      "          0         1         2\n",
      "0  0.807544  0.540847  0.026924\n",
      "1  0.794737  0.604066  0.761399\n",
      "2  0.654455  0.418941  0.240857\n",
      "3  0.056421  0.397399  0.733606\n",
      "4  0.551446  0.998865  0.423765\n",
      "------------------------------\n",
      "          0         1         2\n",
      "0  0.349106 -0.179220 -0.411160\n",
      "1  0.336298 -0.116001  0.323315\n",
      "2  0.196016 -0.301126 -0.197227\n",
      "3 -0.402018 -0.322668  0.295522\n",
      "4  0.093008  0.278797 -0.014319\n",
      "          0         1         2\n",
      "0  0.347319  0.068695  0.331152\n",
      "1  0.437965  0.660248  0.253845\n",
      "2  0.272906  0.239081  0.428054\n",
      "3  0.553079  0.225625  0.855311\n",
      "4  0.728401  0.650128  0.783549\n",
      "------------------------------\n",
      "          0         1         2\n",
      "0  0.098263 -0.180360  0.082096\n",
      "1 -0.012721  0.209562 -0.196841\n",
      "2 -0.040441 -0.074266  0.114707\n",
      "3  0.008407 -0.319046  0.310639\n",
      "4  0.007708 -0.070565  0.062856\n"
     ]
    }
   ],
   "source": [
    "# task23\n",
    "# Given a DataFrame of numeric values, say\n",
    "# df = pd.DataFrame(np.random.random(size=(5, 3))) # a 5x3 frame of float values\n",
    "# how do you subtract the row mean from each element in the row?\n",
    "# 假设给定一个数字值的数据帧\n",
    "# df = pd.DataFrame (np.random。Random (size=(5,3))) #一个5x3帧的浮点值\n",
    "# 如何从这一行的每个元素中减去这一行的平均值?\n",
    "# 第一种做法\n",
    "df1 = pd.DataFrame(np.random.random(size=(5,3)))\n",
    "print(df1)\n",
    "print('-'*30)\n",
    "a = df1 - df1.mean(axis = 1)\n",
    "print(a.iloc[:,:3])\n",
    "# 第二种做法\n",
    "df1 = pd.DataFrame(np.random.random(size=(5,3)))\n",
    "print(df1)\n",
    "print('-'*30)\n",
    "b = df1.sub(df1.mean(axis = 1),axis=0)\n",
    "print(b)"
   ]
  },
  {
   "cell_type": "code",
   "execution_count": 28,
   "metadata": {},
   "outputs": [
    {
     "name": "stdout",
     "output_type": "stream",
     "text": [
      "          a         b         c         d         e         f         g  \\\n",
      "0  0.097041  0.656725  0.682889  0.846865  0.729025  0.632493  0.256119   \n",
      "1  0.192921  0.418365  0.928136  0.961968  0.247482  0.077555  0.844651   \n",
      "2  0.967394  0.104718  0.485069  0.882540  0.351514  0.905988  0.355836   \n",
      "3  0.246281  0.495035  0.770983  0.175269  0.698718  0.791948  0.512091   \n",
      "4  0.331613  0.046806  0.419799  0.524280  0.247820  0.486727  0.531516   \n",
      "\n",
      "          h         i         j  \n",
      "0  0.426279  0.180444  0.576159  \n",
      "1  0.770590  0.917263  0.146572  \n",
      "2  0.409093  0.118074  0.795939  \n",
      "3  0.823739  0.842941  0.431254  \n",
      "4  0.351678  0.267220  0.694019  \n",
      "------------------------------\n",
      "a    1.835250\n",
      "b    1.721648\n",
      "c    3.286876\n",
      "d    3.390921\n",
      "e    2.274559\n",
      "f    2.894711\n",
      "g    2.500213\n",
      "h    2.781378\n",
      "i    2.325942\n",
      "j    2.643943\n",
      "dtype: float64\n",
      "------------------------------\n",
      "Index(['b'], dtype='object')\n",
      "------------------------------\n",
      "b\n"
     ]
    }
   ],
   "source": [
    "# task24\n",
    "# Suppose you have DataFrame with 10 columns of real numbers, for example:\n",
    "# df = pd.DataFrame(np.random.random(size=(5, 10)), columns=list('abcdefghij'))\n",
    "# Which column of numbers has the smallest sum? Return that column's label.\n",
    "# 假设你有10列实数的DataFrame，例如:\n",
    "# df = pd.DataFrame (np.random。随机(大小=(10)),列=列表(“abcdefghij”))\n",
    "# 哪一列数字的和最小? 返回该列的标签。\n",
    "df1 = pd.DataFrame(np.random.random(size=(5,10)),columns=list('abcdefghij'))\n",
    "print(df1)\n",
    "print('-'*30)\n",
    "# 第一种做法\n",
    "a = df1.sum(axis = 0)\n",
    "print(a)\n",
    "print('-'*30)\n",
    "print(a[a == a.min()].index)\n",
    "print('-'*30)\n",
    "# 第二种做法\n",
    "a = df1.sum().idxmin()\n",
    "print(a)"
   ]
  },
  {
   "cell_type": "code",
   "execution_count": 29,
   "metadata": {},
   "outputs": [
    {
     "name": "stdout",
     "output_type": "stream",
     "text": [
      "   0  1  2\n",
      "0  0  0  1\n",
      "1  0  0  0\n",
      "2  1  1  1\n",
      "3  0  0  0\n",
      "4  1  0  1\n",
      "5  0  0  0\n",
      "6  1  0  0\n",
      "7  1  1  0\n",
      "8  0  0  1\n",
      "9  0  0  0\n",
      "------------------------------\n",
      "4\n",
      "------------------------------\n",
      "4\n",
      "------------------------------\n",
      "4\n"
     ]
    }
   ],
   "source": [
    "# task25\n",
    "# How do you count how many unique rows a DataFrame has\n",
    "# (i.e. ignore all rows that are duplicates)? As input,\n",
    "# use a DataFrame of zeros and ones with 10 rows and 3 columns.\n",
    "# df = pd.DataFrame(np.random.randint(0, 2, size=(10, 3)))\n",
    "# 如何计算一个DataFrame有多少行是唯一的(即忽略所有重复的行)?作为输入,\n",
    "# 使用由0和1组成的10行3列的DataFrame。\n",
    "# df = pd.DataFrame (np.random。Randint (0,2, size=(10,3))))\n",
    "# 第一种做法 (keep=False,对于存在重复的行，都剔除，即连 1 行都不剩)\n",
    "df1 = pd.DataFrame(np.random.randint(0,2,(10,3)))\n",
    "print(df1)\n",
    "print('-'*30)\n",
    "df2 = df1.copy()\n",
    "print(len(df2.drop_duplicates(keep=False)))\n",
    "print('-'*30)\n",
    "# 第二种做法\n",
    "print(len(df1) - df1.duplicated(keep=False).sum())\n",
    "print('-'*30)\n",
    "# 第三种做法\n",
    "print(len(df1.drop_duplicates(keep=False)))"
   ]
  },
  {
   "cell_type": "code",
   "execution_count": 30,
   "metadata": {},
   "outputs": [
    {
     "name": "stdout",
     "output_type": "stream",
     "text": [
      "      a   b     c     d     e     f     g     h     i     j\n",
      "0  0.04 NaN   NaN  0.25   NaN  0.43  0.71  0.51   NaN   NaN\n",
      "1   NaN NaN   NaN  0.04  0.76   NaN   NaN  0.67  0.76  0.16\n",
      "2  0.49 NaN   NaN  0.62  0.73  0.26  0.85   NaN   NaN   NaN\n",
      "3   NaN NaN  0.41   NaN  0.05   NaN  0.61   NaN  0.48  0.68\n",
      "------------------------------\n",
      "0    e\n",
      "1    c\n",
      "2    h\n",
      "3    d\n",
      "dtype: object\n",
      "------------------------------\n",
      "       a      b      c      d      e      f      g      h      i      j\n",
      "0  False  False  False  False   True   True   True   True  False  False\n",
      "1  False  False   True   True   True  False  False  False  False  False\n",
      "2  False  False  False  False  False  False  False   True  False  False\n",
      "3  False  False  False   True   True  False  False  False  False  False\n",
      "------------------------------\n",
      "0    e\n",
      "1    c\n",
      "2    h\n",
      "3    d\n",
      "dtype: object\n"
     ]
    }
   ],
   "source": [
    "# task26\n",
    "# In the cell below, you have a DataFrame df that consists of 10 columns of floating-point numbers.\n",
    "# Exactly 5 entries in each row are NaN values.\n",
    "# For each row of the DataFrame, find the column which contains the third NaN value.\n",
    "# You should return a Series of column labels: e, c, d, h, d\n",
    "# 在下面的单元格中，您有一个由10列浮点数组成的DataFrame df。每行中恰好有5个条目是NaN值。\n",
    "# 对于DataFrame的每一行，找到包含第三个NaN值的列。\n",
    "# 你应该返回一系列的列标签:e, c, d, h, d\n",
    "# 第一种做法\n",
    "a = np.nan\n",
    "data1 = [[0.04,a,a,0.25,a,0.43,0.71,0.51,a,a],\\\n",
    "         [a,a,a,0.04,0.76,a,a,0.67,0.76,0.16],\\\n",
    "         [0.49,a,a,0.62,0.73,0.26,0.85,a,a,a],\\\n",
    "         [a,a,0.41,a,0.05,a,0.61,a,0.48,0.68]]\n",
    "df1 = pd.DataFrame(data1,columns = list('abcdefghij'))\n",
    "print(df1)\n",
    "print('-'*30)\n",
    "df2 = df1.copy()\n",
    "a = np.where(df2.isnull().values == True,1,0)\n",
    "\n",
    "df2 = pd.DataFrame(a,columns=list('abcdefghij'))\n",
    "df2 = df2.cumsum(axis = 1)\n",
    "a = np.where(df2 == 3,1,0)\n",
    "df2 = pd.DataFrame(a,columns=list('abcdefghij'))\n",
    "print(df2.idxmax(axis=1))\n",
    "print('-'*30)\n",
    "# 第二种做法\n",
    "print(df1.isnull().cumsum(axis=1)==3)\n",
    "a = (df1.isnull().cumsum(axis=1) == 3).idxmax(axis=1)\n",
    "print('-'*30)\n",
    "print(a)"
   ]
  },
  {
   "cell_type": "code",
   "execution_count": 31,
   "metadata": {},
   "outputs": [
    {
     "name": "stdout",
     "output_type": "stream",
     "text": [
      "   grps  vals\n",
      "0     a    12\n",
      "1     a   345\n",
      "2     a     3\n",
      "3     b     1\n",
      "4     b    45\n",
      "5     c    14\n",
      "6     a     4\n",
      "7     a    52\n",
      "8     b    54\n",
      "9     c    23\n",
      "10    c   235\n",
      "11    c    21\n",
      "12    b    57\n",
      "13    b     3\n",
      "14    c    87\n",
      "------------------------------\n",
      "grps\n",
      "a    409\n",
      "b    156\n",
      "c    345\n",
      "Name: vals, dtype: int64\n",
      "------------------------------\n",
      "grps\n",
      "a    409\n",
      "b    156\n",
      "c    345\n",
      "Name: vals, dtype: int64\n"
     ]
    }
   ],
   "source": [
    "# task27\n",
    "# A DataFrame has a column of groups 'grps' and and column of integer values 'vals':\n",
    "# df = pd.DataFrame({'grps': list('aaabbcaabcccbbc'),\n",
    "#                    'vals': [12,345,3,1,45,14,4,52,54,23,235,21,57,3,87]})\n",
    "# For each group, find the sum of the three greatest values. You should end up with the answer as follows:\n",
    "# grps\n",
    "# a    409\n",
    "# b    156\n",
    "# c    345\n",
    "# 对于每一组，找出三个最大值的和。你应该会得到类似上表答案\n",
    "df1 = pd.DataFrame({'grps':list('aaabbcaabcccbbc'),'vals':[12,345,3,1,45,14,4,52,54,23,235,21,57,3,87]})\n",
    "print(df1)\n",
    "print('-'*30)\n",
    "df2 = df1.copy()\n",
    "df2['px'] = df2['vals'].groupby(df2['grps']).rank(ascending=False)\n",
    "a = df2[df2['px'] <= 3]\n",
    "b = a['vals'].groupby(a['grps']).sum()\n",
    "print(b)\n",
    "print('-'*30)\n",
    "# 第二种做法\n",
    "a = df1.groupby('grps')['vals'].nlargest(3).sum(level=0)\n",
    "print(a)"
   ]
  },
  {
   "cell_type": "code",
   "execution_count": 33,
   "metadata": {},
   "outputs": [
    {
     "name": "stdout",
     "output_type": "stream",
     "text": [
      "     A   B\n",
      "0   46  29\n",
      "1   75  22\n",
      "2   49  63\n",
      "3   33  43\n",
      "4   71  75\n",
      "..  ..  ..\n",
      "95  60  87\n",
      "96  57  40\n",
      "97  86  19\n",
      "98  50  56\n",
      "99  97  94\n",
      "\n",
      "[100 rows x 2 columns]\n",
      "------------------------------\n",
      "     A   B        fz\n",
      "0   46  29   (40-50]\n",
      "1   75  22   (70-80]\n",
      "2   49  63   (40-50]\n",
      "3   33  43   (30-40]\n",
      "4   71  75   (70-80]\n",
      "..  ..  ..       ...\n",
      "95  60  87   (50-60]\n",
      "96  57  40   (50-60]\n",
      "97  86  19   (80-90]\n",
      "98  50  56   (40-50]\n",
      "99  97  94  (90-100]\n",
      "\n",
      "[100 rows x 3 columns]\n",
      "------------------------------\n",
      "fz\n",
      "(0-10]      635\n",
      "(10-20]     360\n",
      "(20-30]     315\n",
      "(30-40]     306\n",
      "(40-50]     750\n",
      "(50-60]     284\n",
      "(60-70]     424\n",
      "(70-80]     526\n",
      "(80-90]     835\n",
      "(90-100]    852\n",
      "Name: B, dtype: int64\n",
      "------------------------------\n",
      "c\n",
      "(0, 10]      635\n",
      "(10, 20]     360\n",
      "(20, 30]     315\n",
      "(30, 40]     306\n",
      "(40, 50]     750\n",
      "(50, 60]     284\n",
      "(60, 70]     424\n",
      "(70, 80]     526\n",
      "(80, 90]     835\n",
      "(90, 100]    852\n",
      "Name: B, dtype: int64\n"
     ]
    }
   ],
   "source": [
    "# task28\n",
    "# The DataFrame df constructed below has two integer columns 'A' and 'B'.\n",
    "# The values in 'A' are between 1 and 100 (inclusive).\n",
    "# df = pd.DataFrame(np.random.RandomState(8765).randint(1, 101, size=(100, 2)), columns = [\"A\", \"B\"])\n",
    "# For each group of 10 consecutive integers in 'A' (i.e. (0, 10], (10, 20], ...),\n",
    "# calculate the sum of the corresponding values in column 'B'.\n",
    "# The answer should be a Series as follows:\n",
    "# A\n",
    "# (0, 10]      635\n",
    "# (10, 20]     360\n",
    "# (20, 30]     315\n",
    "# ......\n",
    "df1 = pd.DataFrame(np.random.RandomState(8765).randint(1,101,(100,2)),columns=list('AB'))\n",
    "print(df1)\n",
    "print('-'*30)\n",
    "def fz(x):\n",
    "    if x <= 10:\n",
    "        c = '(0-10]'\n",
    "    elif x <= 20:\n",
    "        c = '(10-20]'\n",
    "    elif x <= 30:\n",
    "        c = '(20-30]'\n",
    "    elif x <= 40:\n",
    "        c = '(30-40]'\n",
    "    elif x <= 50:\n",
    "        c = '(40-50]'\n",
    "    elif x <= 60:\n",
    "        c = '(50-60]'\n",
    "    elif x <= 70:\n",
    "        c = '(60-70]'\n",
    "    elif x <= 80:\n",
    "        c = '(70-80]'\n",
    "    elif x <= 90:\n",
    "        c = '(80-90]'\n",
    "    else:\n",
    "        c = '(90-100]'\n",
    "    return c\n",
    "df2 = df1.copy()\n",
    "df2['fz'] = df2['A'].map(fz)\n",
    "print(df2)\n",
    "print('-'*30)\n",
    "a = df2['B'].groupby(df2['fz']).sum()\n",
    "print(a)\n",
    "print('-'*30)\n",
    "# 第二种做法，直接用 pd.cut\n",
    "df1['c'] = pd.cut(df1['A'],np.arange(0,101,10))\n",
    "a = df1.groupby('c')['B'].sum()\n",
    "print(a)"
   ]
  },
  {
   "cell_type": "code",
   "execution_count": 34,
   "metadata": {},
   "outputs": [
    {
     "name": "stdout",
     "output_type": "stream",
     "text": [
      "0    1\n",
      "1    2\n",
      "2    0\n",
      "3    1\n",
      "4    2\n",
      "5    3\n",
      "6    4\n",
      "7    0\n",
      "8    1\n",
      "9    2\n",
      "Name: Y, dtype: int64\n",
      "------------------------------\n",
      "0    1\n",
      "1    2\n",
      "2    2\n",
      "3    3\n",
      "4    4\n",
      "5    5\n",
      "6    6\n",
      "7    6\n",
      "8    7\n",
      "9    8\n",
      "Name: X, dtype: int64\n",
      "------------------------------\n",
      "0     True\n",
      "1     True\n",
      "2    False\n",
      "3     True\n",
      "4     True\n",
      "5     True\n",
      "6     True\n",
      "7    False\n",
      "8     True\n",
      "9     True\n",
      "Name: X, dtype: bool\n",
      "------------------------------\n",
      "0    1\n",
      "1    1\n",
      "2    2\n",
      "3    3\n",
      "4    3\n",
      "5    3\n",
      "6    3\n",
      "7    4\n",
      "8    5\n",
      "9    5\n",
      "Name: X, dtype: int64\n",
      "------------------------------\n",
      "   X    Y\n",
      "0  7  1.0\n",
      "1  2  2.0\n",
      "2  0  0.0\n",
      "3  3  1.0\n",
      "4  4  2.0\n",
      "5  2  3.0\n",
      "6  5  4.0\n",
      "7  0  0.0\n",
      "8  3  1.0\n",
      "9  4  2.0\n",
      "------------------------------\n",
      "   X  Y\n",
      "0  7  1\n",
      "1  2  2\n",
      "2  0  0\n",
      "3  3  1\n",
      "4  4  2\n",
      "5  2  3\n",
      "6  5  4\n",
      "7  0  0\n",
      "8  3  1\n",
      "9  4  2\n"
     ]
    }
   ],
   "source": [
    "# task29\n",
    "# Consider a DataFrame df where there is an integer column 'X':\n",
    "# df = pd.DataFrame({'X': [7, 2, 0, 3, 4, 2, 5, 0, 3, 4]})\n",
    "# For each value, count the difference back to the previous zero (or the start of the Series, whichever is closer).\n",
    "# These values should therefore be\n",
    "# [1, 2, 0, 1, 2, 3, 4, 0, 1, 2]\n",
    "# Make this a new column 'Y'.\n",
    "# 第一种做法\n",
    "df1 = pd.DataFrame({'X':[7,2,0,3,4,2,5,0,3,4]})\n",
    "df2 = df1.copy()\n",
    "df3 = df1.copy()\n",
    "df1['gs'] = np.arange(1,len(df1['X'])+1)\n",
    "df1['jq'] = np.where(df1['X'] == 0,df1['gs'],0)\n",
    "df1['zj'] = df1['jq'].cummax()\n",
    "df1['Y'] = df1['gs'] - df1['zj']\n",
    "print(df1['Y'])\n",
    "print('-'*30)\n",
    "# 第二种做法\n",
    "a = (df2['X'] != 0).cumsum()\n",
    "print(a)\n",
    "print('-'*30)\n",
    "b = a != a.shift()\n",
    "print(b)\n",
    "print('-'*30)\n",
    "c = b != b.shift()\n",
    "print(c.cumsum())\n",
    "print('-'*30)\n",
    "df2['Y'] = b.groupby(c.cumsum()).cumsum()\n",
    "print(df2)\n",
    "print('-'*30)\n",
    "# 第三种做法\n",
    "df3['Y'] = df3.groupby((df3['X'] == 0).cumsum()).cumcount()\n",
    "first_zero_idx = (df3['X'] == 0).idxmax()\n",
    "df3['Y'].iloc[0:first_zero_idx] += 1\n",
    "print(df3)"
   ]
  },
  {
   "cell_type": "code",
   "execution_count": 35,
   "metadata": {},
   "outputs": [
    {
     "name": "stdout",
     "output_type": "stream",
     "text": [
      "    0   1   2   3   4   5   6   7\n",
      "0  38  38  46  46  13  24   3  54\n",
      "1  18  47   4  42   8  66  50  46\n",
      "2  62  36  19  19  77  17   7  63\n",
      "3  28  47  46  65  63  12  16  24\n",
      "4  14  51  34  56  29  59  92  79\n",
      "5  58  76  96  45  38  76  58  40\n",
      "6  10  34  48  40  37  23  41  26\n",
      "7  55  70  91  27  79  92  20  31\n",
      "------------------------------\n",
      "[(5, 7), (6, 4), (2, 5)]\n"
     ]
    }
   ],
   "source": [
    "# task30\n",
    "# Consider the DataFrame constructed below which contains rows and columns of numerical data.\n",
    "# Create a list of the column-row index locations of the 3 largest values in this DataFrame.\n",
    "# df = pd.DataFrame(np.random.RandomState(30).randint(1, 101, size=(8, 8)))\n",
    "# In this case, the answer should be:\n",
    "# [(5, 7), (6, 4), (2, 5)]\n",
    "df1 = pd.DataFrame(np.random.RandomState(30).randint(1,101,(8,8)))\n",
    "print(df1)\n",
    "print('-'*30)\n",
    "a = df1.unstack().sort_values()[-3:].index.tolist()\n",
    "print(a)"
   ]
  },
  {
   "cell_type": "code",
   "execution_count": 36,
   "metadata": {},
   "outputs": [
    {
     "name": "stdout",
     "output_type": "stream",
     "text": [
      "    vals grps\n",
      "0    -12    A\n",
      "1     -7    B\n",
      "2    -14    A\n",
      "3      4    A\n",
      "4     -7    A\n",
      "5     28    B\n",
      "6     -2    A\n",
      "7     -1    A\n",
      "8      8    A\n",
      "9     -2    B\n",
      "10    28    A\n",
      "11    12    A\n",
      "12    16    A\n",
      "13   -24    A\n",
      "14   -12    A\n",
      "------------------------------\n",
      "cc\n",
      "A    13.6\n",
      "B    28.0\n",
      "Name: cc_value, dtype: float64\n",
      "------------------------------\n",
      "<class 'pandas.core.series.Series'>\n",
      "------------------------------\n",
      "    vals grps  patched_vals\n",
      "0    -12    A          13.6\n",
      "1     -7    B          28.0\n",
      "2    -14    A          13.6\n",
      "3      4    A           4.0\n",
      "4     -7    A          13.6\n",
      "5     28    B          28.0\n",
      "6     -2    A          13.6\n",
      "7     -1    A          13.6\n",
      "8      8    A           8.0\n",
      "9     -2    B          28.0\n",
      "10    28    A          28.0\n",
      "11    12    A          12.0\n",
      "12    16    A          16.0\n",
      "13   -24    A          13.6\n",
      "14   -12    A          13.6\n",
      "------------------------------\n",
      "0     13.6\n",
      "1     28.0\n",
      "2     13.6\n",
      "3      4.0\n",
      "4     13.6\n",
      "5     28.0\n",
      "6     13.6\n",
      "7     13.6\n",
      "8      8.0\n",
      "9     28.0\n",
      "10    28.0\n",
      "11    12.0\n",
      "12    16.0\n",
      "13    13.6\n",
      "14    13.6\n",
      "Name: vals, dtype: float64\n"
     ]
    }
   ],
   "source": [
    "# task31\n",
    "# You are given the DataFrame below with a column of group IDs, 'grps',\n",
    "# and a column of corresponding integer values, 'vals'.\n",
    "# df = pd.DataFrame({\"vals\": np.random.RandomState(31).randint(-30, 30, size=15),\n",
    "#                    \"grps\": np.random.RandomState(31).choice([\"A\", \"B\"], 15)})\n",
    "# Create a new column 'patched_values'\n",
    "# which contains the same values as the 'vals' any negative values in 'vals' with the group mean:\n",
    "#     vals grps  patched_vals\n",
    "# 0    -12    A          13.6\n",
    "# 1     -7    B          28.0\n",
    "# 2    -14    A          13.6\n",
    "# 3      4    A           4.0\n",
    "# 4     -7    A          13.6\n",
    "# ..........................\n",
    "# 第一种做法\n",
    "df1 = pd.DataFrame({'vals':np.random.RandomState(31).randint(-30,30,(15,)),\\\n",
    "                    'grps':np.random.RandomState(31).choice(['A',\"B\"],15)})\n",
    "df2 = df1.copy()\n",
    "a = df1[df1['vals'] > 0]\n",
    "c = a.groupby('grps')['vals'].mean()\n",
    "c.index.name = 'cc'\n",
    "c.name = 'cc_value'\n",
    "print(df1)\n",
    "print('-'*30)\n",
    "print(c)\n",
    "print('-'*30)\n",
    "print(type(c))\n",
    "print('-'*30)\n",
    "d = pd.merge(df1,c,left_on='grps',right_on='cc',sort=False,how='left')\n",
    "d['patched_vals'] = np.where(d['vals'] < 0,d['cc_value'],d['vals'])\n",
    "d.drop('cc_value',axis=1,inplace=True)\n",
    "print(d)\n",
    "print('-'*30)\n",
    "# 第二种做法\n",
    "def replace(group):\n",
    "    mask = group < 0\n",
    "    group[mask] = group[~mask].mean()\n",
    "    return group\n",
    "a = df2.groupby('grps')['vals'].transform(replace)\n",
    "print(a)"
   ]
  },
  {
   "cell_type": "code",
   "execution_count": 37,
   "metadata": {},
   "outputs": [
    {
     "name": "stdout",
     "output_type": "stream",
     "text": [
      "   group  value\n",
      "0      a    1.0\n",
      "1      a    2.0\n",
      "2      b    3.0\n",
      "3      b    NaN\n",
      "4      a    2.0\n",
      "5      b    3.0\n",
      "6      b    NaN\n",
      "7      b    1.0\n",
      "8      a    7.0\n",
      "9      b    3.0\n",
      "10     a    NaN\n",
      "11     b    8.0\n",
      "------------------------------\n",
      "group    \n",
      "a      0     1.000000\n",
      "       1     1.500000\n",
      "       4     1.666667\n",
      "       8     3.666667\n",
      "       10    4.500000\n",
      "b      2     3.000000\n",
      "       3     3.000000\n",
      "       5     3.000000\n",
      "       6     3.000000\n",
      "       7     2.000000\n",
      "       9     2.000000\n",
      "       11    4.000000\n",
      "Name: value, dtype: float64\n",
      "------------------------------\n",
      "0     1.000000\n",
      "1     1.500000\n",
      "2     3.000000\n",
      "3     3.000000\n",
      "4     1.666667\n",
      "5     3.000000\n",
      "6     3.000000\n",
      "7     2.000000\n",
      "8     3.666667\n",
      "9     2.000000\n",
      "10    4.500000\n",
      "11    4.000000\n",
      "Name: value, dtype: float64\n"
     ]
    }
   ],
   "source": [
    "# task32\n",
    "# Implement a rolling mean over groups with window size 3,\n",
    "# which ignores NaN value. For example consider the following DataFrame:\n",
    "# >>> df = pd.DataFrame({'group': list('aabbabbbabab'),\n",
    "#                        'value': [1, 2, 3, np.nan, 2, 3, np.nan, 1, 7, 3, np.nan, 8]})\n",
    "# 结果如下\n",
    "# 0     1.000000\n",
    "# 1     1.500000\n",
    "# 2     3.000000\n",
    "# 3     3.000000\n",
    "# ..............\n",
    "\n",
    "df1 = pd.DataFrame({'group':list('aabbabbbabab'),\\\n",
    "                    'value':[1,2,3,np.nan,2,3,np.nan,1,7,3,np.nan,8]})\n",
    "print(df1)\n",
    "print('-'*30)\n",
    "a = df1.groupby('group')['value']\n",
    "b = df1.fillna(0).groupby('group')['value']\n",
    "s = b.rolling(window=3,min_periods=1).sum()/a.rolling(3,min_periods=1).count()\n",
    "print(s)\n",
    "print('-'*30)\n",
    "a = s.reset_index(level=0,drop=True).sort_index()\n",
    "print(a)"
   ]
  },
  {
   "cell_type": "code",
   "execution_count": 38,
   "metadata": {},
   "outputs": [
    {
     "name": "stdout",
     "output_type": "stream",
     "text": [
      "DatetimeIndex(['2015-01-01', '2015-01-02', '2015-01-05', '2015-01-06',\n",
      "               '2015-01-07', '2015-01-08', '2015-01-09', '2015-01-12',\n",
      "               '2015-01-13', '2015-01-14',\n",
      "               ...\n",
      "               '2015-12-18', '2015-12-21', '2015-12-22', '2015-12-23',\n",
      "               '2015-12-24', '2015-12-25', '2015-12-28', '2015-12-29',\n",
      "               '2015-12-30', '2015-12-31'],\n",
      "              dtype='datetime64[ns]', length=261, freq='B')\n",
      "------------------------------\n",
      "                   0\n",
      "2015-01-01  0.276031\n",
      "2015-01-02 -0.814742\n",
      "2015-01-05 -0.236023\n",
      "2015-01-06  1.387642\n",
      "2015-01-07 -0.670542\n",
      "...              ...\n",
      "2015-12-25 -0.795258\n",
      "2015-12-28 -0.548695\n",
      "2015-12-29 -1.374056\n",
      "2015-12-30  1.032201\n",
      "2015-12-31  0.051870\n",
      "\n",
      "[261 rows x 1 columns]\n"
     ]
    }
   ],
   "source": [
    "# task33\n",
    "# Create a DatetimeIndex that contains each business day of 2015\n",
    "# and use it to index a Series of random numbers.\n",
    "# Let's call this Series s.\n",
    "# 创建包含2015年每个工作日的DatetimeIndex，并使用它来索引一系列随机数。我们称这个级数为s。\n",
    "data1 = pd.date_range(start='2015-01-01',end='2015-12-31',freq='B')\n",
    "print(data1)\n",
    "print('-'*30)\n",
    "s = pd.DataFrame(np.random.randn(len(data1),),index=data1)\n",
    "print(s)"
   ]
  },
  {
   "cell_type": "code",
   "execution_count": 39,
   "metadata": {},
   "outputs": [
    {
     "name": "stdout",
     "output_type": "stream",
     "text": [
      "0   -8.541396\n",
      "dtype: float64\n"
     ]
    }
   ],
   "source": [
    "# task34\n",
    "# Find the sum of the values in s for every Wednesday.\n",
    "# 求每周三s的值之和。\n",
    "a = s[s.index.weekday == 2].sum()\n",
    "print(a)"
   ]
  },
  {
   "cell_type": "code",
   "execution_count": 40,
   "metadata": {},
   "outputs": [
    {
     "name": "stdout",
     "output_type": "stream",
     "text": [
      "           0\n",
      "1   0.109265\n",
      "2   0.082013\n",
      "3  -0.246514\n",
      "4  -0.403311\n",
      "5  -0.274546\n",
      "6   0.365275\n",
      "7   0.108354\n",
      "8   0.003341\n",
      "9   0.065083\n",
      "10  0.077056\n",
      "11  0.202256\n",
      "12  0.158350\n",
      "------------------------------\n",
      "                   0\n",
      "2015-01-31  0.109265\n",
      "2015-02-28  0.082013\n",
      "2015-03-31 -0.246514\n",
      "2015-04-30 -0.403311\n",
      "2015-05-31 -0.274546\n",
      "2015-06-30  0.365275\n",
      "2015-07-31  0.108354\n",
      "2015-08-31  0.003341\n",
      "2015-09-30  0.065083\n",
      "2015-10-31  0.077056\n",
      "2015-11-30  0.202256\n",
      "2015-12-31  0.158350\n"
     ]
    }
   ],
   "source": [
    "# task35\n",
    "# For each calendar month in s, find the mean of values.\n",
    "# 对于s表示的每个日历月，求其平均值\n",
    "# 第一种做法\n",
    "a = s.groupby(s.index.month).mean()\n",
    "print(a)\n",
    "print('-'*30)\n",
    "# 第二种做法\n",
    "b = s.resample('M').mean()\n",
    "print(b)"
   ]
  },
  {
   "cell_type": "code",
   "execution_count": 41,
   "metadata": {},
   "outputs": [
    {
     "name": "stdout",
     "output_type": "stream",
     "text": [
      "                    0\n",
      "2015-01-31 2015-01-22\n",
      "2015-05-31 2015-04-14\n",
      "2015-09-30 2015-08-20\n",
      "2016-01-31 2015-11-06\n"
     ]
    }
   ],
   "source": [
    "# task36\n",
    "# For each group of four consecutive calendar months in s,\n",
    "# find the date on which the highest value occurred.\n",
    "a = s.groupby(pd.Grouper(freq='4M')).idxmax()\n",
    "print(a)"
   ]
  },
  {
   "cell_type": "code",
   "execution_count": 42,
   "metadata": {},
   "outputs": [
    {
     "name": "stdout",
     "output_type": "stream",
     "text": [
      "DatetimeIndex(['2015-01-15', '2015-02-19', '2015-03-19', '2015-04-16',\n",
      "               '2015-05-21', '2015-06-18', '2015-07-16', '2015-08-20',\n",
      "               '2015-09-17', '2015-10-15', '2015-11-19', '2015-12-17',\n",
      "               '2016-01-21', '2016-02-18', '2016-03-17', '2016-04-21',\n",
      "               '2016-05-19', '2016-06-16', '2016-07-21', '2016-08-18',\n",
      "               '2016-09-15', '2016-10-20', '2016-11-17', '2016-12-15'],\n",
      "              dtype='datetime64[ns]', freq='WOM-3THU')\n"
     ]
    }
   ],
   "source": [
    "# task37\n",
    "# Create a DateTimeIndex consisting of the third Thursday\n",
    "# in each month for the years 2015 and 2016\n",
    "data1 = pd.date_range(start='2015-01-01',end='2016-12-31',freq='WOM-3THU')\n",
    "print(data1)"
   ]
  },
  {
   "cell_type": "code",
   "execution_count": 54,
   "metadata": {},
   "outputs": [
    {
     "name": "stdout",
     "output_type": "stream",
     "text": [
      "            From_to  FlightNumber  RecentDelays              Airline\n",
      "0      LoNDon_paris       10045.0      [23, 47]               KLM(!)\n",
      "1      MAdrid_miLAN           NaN            []    <Air France> (12)\n",
      "2  londON_StockhOlm       10065.0  [24, 43, 87]  (British Airways. )\n",
      "3    Budapest_PaRis           NaN          [13]       12. Air France\n",
      "4   Brussels_londOn       10085.0      [67, 32]           \"Swiss Air\n",
      "----------------------------------------------------------------------\n",
      "            From_to  FlightNumber  RecentDelays              Airline\n",
      "0      LoNDon_paris         10045      [23, 47]               KLM(!)\n",
      "1      MAdrid_miLAN         10055            []    <Air France> (12)\n",
      "2  londON_StockhOlm         10065  [24, 43, 87]  (British Airways. )\n",
      "3    Budapest_PaRis         10075          [13]       12. Air France\n",
      "4   Brussels_londOn         10085      [67, 32]           \"Swiss Air\n"
     ]
    }
   ],
   "source": [
    "# task38\n",
    "# Some values in the the FlightNumber column are missing (they are NaN).\n",
    "# These numbers are meant to increase by 10 with each row so 10055 and 10075 need to be put in place.\n",
    "# Modify df to fill in these missing numbers and make the column an integer column (instead of a float column).\n",
    "# FlightNumber列中的一些值丢失了(它们是NaN)。\n",
    "# 这些数字每一行增加10，\n",
    "# 因此需要将10055和10075放置到位。修改df以填充这些缺失的数字，并使列为整数列(而不是浮点列)。\n",
    "df1 = pd.DataFrame({'From_to':['LoNDon_paris','MAdrid_miLAN','londON_StockhOlm',\\\n",
    "                              'Budapest_PaRis','Brussels_londOn'],\\\n",
    "                   'FlightNumber':[10045,np.nan,10065,np.nan,10085],\\\n",
    "                   'RecentDelays':[[23,47],[],[24,43,87],[13],[67,32]],\\\n",
    "                   'Airline':['KLM(!)','<Air France> (12)','(British Airways. )',\\\n",
    "                              '12. Air France','\"Swiss Air']})\n",
    "print(df1)\n",
    "print('-'*70)\n",
    "df1['FlightNumber'] = df1['FlightNumber'].interpolate().astype(int)\n",
    "print(df1)"
   ]
  },
  {
   "cell_type": "code",
   "execution_count": 55,
   "metadata": {},
   "outputs": [
    {
     "name": "stdout",
     "output_type": "stream",
     "text": [
      "       From         To\n",
      "0    LoNDon      paris\n",
      "1    MAdrid      miLAN\n",
      "2    londON  StockhOlm\n",
      "3  Budapest      PaRis\n",
      "4  Brussels     londOn\n"
     ]
    }
   ],
   "source": [
    "# task39\n",
    "# The From_To column would be better as two separate columns!\n",
    "# Split each string on the underscore delimiter _ to\n",
    "# give a new temporary DataFrame called 'temp' with the correct values.\n",
    "# Assign the correct column names 'From' and 'To' to this temporary DataFrame.\n",
    "# From_To列作为两个单独的列会更好!在下划线分隔符_上拆分每个字符串，\n",
    "# 以给出一个新的名为'temp'的临时DataFrame，\n",
    "# 该DataFrame具有正确的值。将正确的列名‘From’和‘To’赋给这个临时数据帧。\n",
    "a = df1['From_to'].str.split('_',expand=True)\n",
    "a.columns = ['From','To']\n",
    "print(a)"
   ]
  },
  {
   "cell_type": "code",
   "execution_count": 56,
   "metadata": {},
   "outputs": [
    {
     "name": "stdout",
     "output_type": "stream",
     "text": [
      "       From         To\n",
      "0    London      Paris\n",
      "1    Madrid      Milan\n",
      "2    London  Stockholm\n",
      "3  Budapest      Paris\n",
      "4  Brussels     London\n"
     ]
    }
   ],
   "source": [
    "# task40\n",
    "# Notice how the capitalisation of the city names is all mixed up in this temporary DataFrame 'temp'.\n",
    "# Standardise the strings so that only the first letter is uppercase (e.g. \"londON\" should become \"London\".)\n",
    "# 请注意，在这个临时DataFrame 'temp'中，城市名称的大小写是如何混合在一起的。\n",
    "# 标准化字符串，使只有第一个字母是大写的(例如。“伦敦”应该变成“伦敦”。)\n",
    "a['From'] = a['From'].str.capitalize()\n",
    "a['To'] = a['To'].str.capitalize()\n",
    "print(a)"
   ]
  },
  {
   "cell_type": "code",
   "execution_count": 57,
   "metadata": {},
   "outputs": [
    {
     "name": "stdout",
     "output_type": "stream",
     "text": [
      "   FlightNumber  RecentDelays              Airline      From         To\n",
      "0         10045      [23, 47]               KLM(!)    London      Paris\n",
      "1         10055            []    <Air France> (12)    Madrid      Milan\n",
      "2         10065  [24, 43, 87]  (British Airways. )    London  Stockholm\n",
      "3         10075          [13]       12. Air France  Budapest      Paris\n",
      "4         10085      [67, 32]           \"Swiss Air  Brussels     London\n",
      "----------------------------------------------------------------------\n",
      "   FlightNumber  RecentDelays              Airline      From         To\n",
      "0         10045      [23, 47]               KLM(!)    London      Paris\n",
      "1         10055            []    <Air France> (12)    Madrid      Milan\n",
      "2         10065  [24, 43, 87]  (British Airways. )    London  Stockholm\n",
      "3         10075          [13]       12. Air France  Budapest      Paris\n",
      "4         10085      [67, 32]           \"Swiss Air  Brussels     London\n"
     ]
    }
   ],
   "source": [
    "# task41\n",
    "# Delete the From_To column from df and attach the temporary DataFrame 'temp' from the previous questions.df\n",
    "# and attach the temporary DataFrame from the previous questions.\n",
    "# 第一种做法\n",
    "df2 = df1.copy()\n",
    "df2.drop('From_to',axis=1,inplace=True)\n",
    "df2.loc[:,'From'] = a['From']\n",
    "df2.loc[:,'To'] = a['To']\n",
    "print(df2)\n",
    "print('-'*70)\n",
    "# 第二种做法\n",
    "df1 = df1.drop('From_to',axis=1)\n",
    "df1 = df1.join(a)\n",
    "print(df1)"
   ]
  },
  {
   "cell_type": "code",
   "execution_count": 58,
   "metadata": {},
   "outputs": [
    {
     "name": "stdout",
     "output_type": "stream",
     "text": [
      "   FlightNumber  RecentDelays          Airline      From         To\n",
      "0         10045      [23, 47]              KLM    London      Paris\n",
      "1         10055            []       Air France    Madrid      Milan\n",
      "2         10065  [24, 43, 87]  British Airways    London  Stockholm\n",
      "3         10075          [13]       Air France  Budapest      Paris\n",
      "4         10085      [67, 32]        Swiss Air  Brussels     London\n"
     ]
    }
   ],
   "source": [
    "# task42\n",
    "# In the Airline column,\n",
    "# you can see some extra puctuation and symbols have appeared around the airline names.\n",
    "# Pull out just the airline name. E.g. '(British Airways. )' should become 'British Airways'.\n",
    "df1['Airline'] = df1['Airline'].str.extract('([a-zA-Z\\s]+)',expand=False).str.strip()\n",
    "print(df1)"
   ]
  },
  {
   "cell_type": "code",
   "execution_count": 59,
   "metadata": {},
   "outputs": [
    {
     "name": "stdout",
     "output_type": "stream",
     "text": [
      "      0     1     2\n",
      "0  23.0  47.0   NaN\n",
      "1   NaN   NaN   NaN\n",
      "2  24.0  43.0  87.0\n",
      "3  13.0   NaN   NaN\n",
      "4  67.0  32.0   NaN\n",
      "----------------------------------------------------------------------\n",
      "   delay_1  delay_2  delay_3\n",
      "0     23.0     47.0      NaN\n",
      "1      NaN      NaN      NaN\n",
      "2     24.0     43.0     87.0\n",
      "3     13.0      NaN      NaN\n",
      "4     67.0     32.0      NaN\n",
      "----------------------------------------------------------------------\n",
      "   FlightNumber          Airline      From         To  delay_1  delay_2  \\\n",
      "0         10045              KLM    London      Paris     23.0     47.0   \n",
      "1         10055       Air France    Madrid      Milan      NaN      NaN   \n",
      "2         10065  British Airways    London  Stockholm     24.0     43.0   \n",
      "3         10075       Air France  Budapest      Paris     13.0      NaN   \n",
      "4         10085        Swiss Air  Brussels     London     67.0     32.0   \n",
      "\n",
      "   delay_3  \n",
      "0      NaN  \n",
      "1      NaN  \n",
      "2     87.0  \n",
      "3      NaN  \n",
      "4      NaN  \n"
     ]
    }
   ],
   "source": [
    "# task43\n",
    "# 在RecentDelays列中，这些值已经作为列表输入到DataFrame中。\n",
    "# 我们希望每个第一个值在它自己的列中，每个第二个值在它自己的列中，以此类推。\n",
    "# 如果没有第n个值，这个值应该是NaN。\n",
    "# 将列表的Series展开为一个名为'delays'的新DataFrame，\n",
    "# 将列重命名为'delay_1'、'delay_2'等，并将df中不需要的RecentDelays列替换为'delays'。\n",
    "delays = df1['RecentDelays'].apply(pd.Series)\n",
    "print(delays)\n",
    "print('-'*70)\n",
    "delays.columns = ['delay_{}'.format(n) for n in range(1,len(delays.columns)+1)]\n",
    "print(delays)\n",
    "print('-' *70)\n",
    "df1 = df1.drop('RecentDelays',axis=1).join(delays)\n",
    "print(df1)"
   ]
  },
  {
   "cell_type": "code",
   "execution_count": 60,
   "metadata": {},
   "outputs": [
    {
     "name": "stdout",
     "output_type": "stream",
     "text": [
      "A  0    0.057079\n",
      "   1    0.097182\n",
      "   2    0.756489\n",
      "   3    0.927382\n",
      "   4    0.767049\n",
      "   5    0.842236\n",
      "   6    0.409460\n",
      "   7    0.643373\n",
      "   8    0.663546\n",
      "   9    0.511327\n",
      "B  0    0.415740\n",
      "   1    0.542410\n",
      "   2    0.865128\n",
      "   3    0.295161\n",
      "   4    0.296709\n",
      "   5    0.881992\n",
      "   6    0.974678\n",
      "   7    0.711330\n",
      "   8    0.874235\n",
      "   9    0.946823\n",
      "C  0    0.236375\n",
      "   1    0.176754\n",
      "   2    0.572563\n",
      "   3    0.737756\n",
      "   4    0.826560\n",
      "   5    0.359505\n",
      "   6    0.826856\n",
      "   7    0.901874\n",
      "   8    0.509929\n",
      "   9    0.886284\n",
      "dtype: float64\n"
     ]
    }
   ],
   "source": [
    "# task44\n",
    "# 给定列表letters = ['A'， 'B'， 'C']\n",
    "# 和numbers = list(range(10))，\n",
    "# 用这两个列表的乘积构造一个MultiIndex对象。用它来索引一组随机数。\n",
    "# 称这个级数为s\n",
    "l1 = list('ABC')\n",
    "l2 = range(10)\n",
    "dex1 = pd.MultiIndex.from_product([l1,l2])\n",
    "s = pd.Series(np.random.rand(30),index=dex1)\n",
    "print(s)"
   ]
  },
  {
   "cell_type": "code",
   "execution_count": 61,
   "metadata": {},
   "outputs": [
    {
     "name": "stdout",
     "output_type": "stream",
     "text": [
      "True\n",
      "------------------------------\n",
      "True\n"
     ]
    }
   ],
   "source": [
    "# task45\n",
    "# Check the index of s is lexicographically sorted\n",
    "# (this is a necessary proprty for indexing to work correctly with a MultiIndex).\n",
    "# 检查s的索引是否按字典顺序排序(这是索引正确使用MultiIndex的必要属性)。\n",
    "a = s.index.is_lexsorted()\n",
    "print(a)\n",
    "print('-'*30)\n",
    "# 第二种做法\n",
    "print(s.index.lexsort_depth == s.index.nlevels)"
   ]
  },
  {
   "cell_type": "code",
   "execution_count": 62,
   "metadata": {},
   "outputs": [
    {
     "name": "stdout",
     "output_type": "stream",
     "text": [
      "A  1    0.097182\n",
      "   3    0.927382\n",
      "   6    0.409460\n",
      "B  1    0.542410\n",
      "   3    0.295161\n",
      "   6    0.974678\n",
      "C  1    0.176754\n",
      "   3    0.737756\n",
      "   6    0.826856\n",
      "dtype: float64\n"
     ]
    }
   ],
   "source": [
    "# task46\n",
    "# 从MultiIndexed Series的第二级中选择标签1、3和6\n",
    "a = s.loc[:,[1,3,6]]\n",
    "print(a)"
   ]
  },
  {
   "cell_type": "code",
   "execution_count": 63,
   "metadata": {},
   "outputs": [
    {
     "name": "stdout",
     "output_type": "stream",
     "text": [
      "B  5    0.881992\n",
      "   6    0.974678\n",
      "   7    0.711330\n",
      "   8    0.874235\n",
      "   9    0.946823\n",
      "C  5    0.359505\n",
      "   6    0.826856\n",
      "   7    0.901874\n",
      "   8    0.509929\n",
      "   9    0.886284\n",
      "dtype: float64\n",
      "------------------------------\n",
      "B  5    0.881992\n",
      "   6    0.974678\n",
      "   7    0.711330\n",
      "   8    0.874235\n",
      "   9    0.946823\n",
      "C  5    0.359505\n",
      "   6    0.826856\n",
      "   7    0.901874\n",
      "   8    0.509929\n",
      "   9    0.886284\n",
      "dtype: float64\n",
      "------------------------------\n",
      "A  5    0.842236\n",
      "   6    0.409460\n",
      "   7    0.643373\n",
      "   8    0.663546\n",
      "   9    0.511327\n",
      "B  5    0.881992\n",
      "   6    0.974678\n",
      "   7    0.711330\n",
      "   8    0.874235\n",
      "   9    0.946823\n",
      "dtype: float64\n"
     ]
    }
   ],
   "source": [
    "# task47\n",
    "# 切片系列;在第一个关卡中，从标签“B”开始,\n",
    "# 在第二个关卡中从标签5开始。\n",
    "# 第一种做法\n",
    "a = s.loc['B':,5:]\n",
    "print(a)\n",
    "print('-'*30)\n",
    "# 第二种做法\n",
    "a = s.loc[pd.IndexSlice['B':,5:]]\n",
    "print(a)\n",
    "print('-'*30)\n",
    "# 第三种做法\n",
    "a = s.loc[slice(None,'B'),slice(5,None)]\n",
    "print(a)"
   ]
  },
  {
   "cell_type": "code",
   "execution_count": 64,
   "metadata": {},
   "outputs": [
    {
     "name": "stdout",
     "output_type": "stream",
     "text": [
      "A    5.675124\n",
      "B    6.804205\n",
      "C    6.034457\n",
      "dtype: float64\n"
     ]
    }
   ],
   "source": [
    "# task48\n",
    "# Sum the values in s for each label in the first level\n",
    "# (you should have Series giving you a total for labels A, B and C).\n",
    "# 将第一关中每个标签的s值相加(游戏邦注:你应该让Series给你标签a, B和C的总和)。\n",
    "a = s.sum(level=0)\n",
    "print(a)"
   ]
  },
  {
   "cell_type": "code",
   "execution_count": 65,
   "metadata": {},
   "outputs": [
    {
     "name": "stdout",
     "output_type": "stream",
     "text": [
      "          0         1         2         3         4         5         6  \\\n",
      "A  0.057079  0.097182  0.756489  0.927382  0.767049  0.842236  0.409460   \n",
      "B  0.415740  0.542410  0.865128  0.295161  0.296709  0.881992  0.974678   \n",
      "C  0.236375  0.176754  0.572563  0.737756  0.826560  0.359505  0.826856   \n",
      "\n",
      "          7         8         9  \n",
      "A  0.643373  0.663546  0.511327  \n",
      "B  0.711330  0.874235  0.946823  \n",
      "C  0.901874  0.509929  0.886284  \n",
      "------------------------------\n",
      "0    0.709194\n",
      "1    0.816347\n",
      "2    2.194180\n",
      "3    1.960299\n",
      "4    1.890319\n",
      "5    2.083733\n",
      "6    2.210994\n",
      "7    2.256576\n",
      "8    2.047710\n",
      "9    2.344434\n",
      "dtype: float64\n"
     ]
    }
   ],
   "source": [
    "# task49\n",
    "# Suppose that sum() (and other methods) did not accept a level keyword argument.\n",
    "# How else could you perform the equivalent of s.sum(level=1)?\n",
    "# 假设sum()(和其他方法)不接受level关键字参数。你还能如何执行s.sum(level=1)的等价?\n",
    "print(s.unstack())\n",
    "print('-'*30)\n",
    "a = s.unstack().sum()\n",
    "print(a)"
   ]
  },
  {
   "cell_type": "code",
   "execution_count": 66,
   "metadata": {},
   "outputs": [
    {
     "name": "stdout",
     "output_type": "stream",
     "text": [
      "0  A    0.057079\n",
      "   B    0.415740\n",
      "   C    0.236375\n",
      "1  A    0.097182\n",
      "   B    0.542410\n",
      "   C    0.176754\n",
      "2  A    0.756489\n",
      "   B    0.865128\n",
      "   C    0.572563\n",
      "3  A    0.927382\n",
      "   B    0.295161\n",
      "   C    0.737756\n",
      "4  A    0.767049\n",
      "   B    0.296709\n",
      "   C    0.826560\n",
      "5  A    0.842236\n",
      "   B    0.881992\n",
      "   C    0.359505\n",
      "6  A    0.409460\n",
      "   B    0.974678\n",
      "   C    0.826856\n",
      "7  A    0.643373\n",
      "   B    0.711330\n",
      "   C    0.901874\n",
      "8  A    0.663546\n",
      "   B    0.874235\n",
      "   C    0.509929\n",
      "9  A    0.511327\n",
      "   B    0.946823\n",
      "   C    0.886284\n",
      "dtype: float64\n"
     ]
    }
   ],
   "source": [
    "# task50\n",
    "# Exchange the levels of the MultiIndex\n",
    "# so we have an index of the form (letters, numbers).\n",
    "# Is this new Series properly lexsorted? If not, sort it.\n",
    "# 交换MultiIndex的级别，这样我们就有了表单的索引(字母，数字)。\n",
    "# 这个新系列的词汇分类恰当吗?如果不是，那就分类。\n",
    "new_s = s.swaplevel(0,1)\n",
    "if not new_s.index.is_lexsorted():\n",
    "    new_s = new_s.sort_index()\n",
    "print(new_s)"
   ]
  },
  {
   "cell_type": "code",
   "execution_count": 73,
   "metadata": {},
   "outputs": [
    {
     "name": "stdout",
     "output_type": "stream",
     "text": [
      "[array([0, 0, 0, 0, 1, 1, 1, 1, 2, 2, 2, 2, 3, 3, 3, 3, 4, 4, 4, 4]), array([0, 1, 2, 3, 0, 1, 2, 3, 0, 1, 2, 3, 0, 1, 2, 3, 0, 1, 2, 3])]\n",
      "------------------------------\n",
      "    x  y\n",
      "0   0  0\n",
      "1   0  1\n",
      "2   0  2\n",
      "3   0  3\n",
      "4   1  0\n",
      "5   1  1\n",
      "6   1  2\n",
      "7   1  3\n",
      "8   2  0\n",
      "9   2  1\n",
      "10  2  2\n",
      "11  2  3\n",
      "12  3  0\n",
      "13  3  1\n",
      "14  3  2\n",
      "15  3  3\n",
      "16  4  0\n",
      "17  4  1\n",
      "18  4  2\n",
      "19  4  3\n"
     ]
    }
   ],
   "source": [
    "# task51 生成相关序列\n",
    "X = 5\n",
    "Y = 4\n",
    "p = pd.core.reshape.util.cartesian_product([np.arange(X),np.arange(Y)])\n",
    "print(p)\n",
    "print('-'*30)\n",
    "df1 = pd.DataFrame(np.asarray(p).T,columns=['x','y'])\n",
    "print(df1)"
   ]
  },
  {
   "cell_type": "code",
   "execution_count": 74,
   "metadata": {},
   "outputs": [
    {
     "name": "stdout",
     "output_type": "stream",
     "text": [
      "    x  y  mine\n",
      "0   0  0     0\n",
      "1   0  1     0\n",
      "2   0  2     1\n",
      "3   0  3     1\n",
      "4   1  0     1\n",
      "5   1  1     1\n",
      "6   1  2     0\n",
      "7   1  3     0\n",
      "8   2  0     0\n",
      "9   2  1     0\n",
      "10  2  2     0\n",
      "11  2  3     1\n",
      "12  3  0     0\n",
      "13  3  1     0\n",
      "14  3  2     1\n",
      "15  3  3     1\n",
      "16  4  0     1\n",
      "17  4  1     0\n",
      "18  4  2     0\n",
      "19  4  3     0\n"
     ]
    }
   ],
   "source": [
    "# task52\n",
    "# For this DataFrame df,\n",
    "# create a new column of zeros (safe) and ones (mine).\n",
    "# The probability of a mine occuring at each location should be 0.4.\n",
    "df1['mine'] = np.random.binomial(1,0.4,X*Y)\n",
    "print(df1)"
   ]
  },
  {
   "cell_type": "code",
   "execution_count": 75,
   "metadata": {},
   "outputs": [
    {
     "name": "stdout",
     "output_type": "stream",
     "text": [
      "    x  y  mine\n",
      "0   1  1     0\n",
      "1   1  2     0\n",
      "2   1  3     1\n",
      "3   1  4     1\n",
      "4   2  1     1\n",
      "5   2  2     1\n",
      "6   2  3     0\n",
      "7   2  4     0\n",
      "8   3  1     0\n",
      "9   3  2     0\n",
      "10  3  3     0\n",
      "11  3  4     1\n",
      "12  4  1     0\n",
      "13  4  2     0\n",
      "14  4  3     1\n",
      "15  4  4     1\n",
      "16  5  1     1\n",
      "17  5  2     0\n",
      "18  5  3     0\n",
      "19  5  4     0\n",
      "------------------------------\n",
      "    x  y  mine  adjacent\n",
      "0   0  0     0       2.0\n",
      "1   0  1     0       3.0\n",
      "2   0  2     1       2.0\n",
      "3   0  3     1       1.0\n",
      "4   1  0     1       1.0\n",
      "5   1  1     1       2.0\n",
      "6   1  2     0       4.0\n",
      "7   1  3     0       3.0\n",
      "8   2  0     0       2.0\n",
      "9   2  1     0       3.0\n",
      "10  2  2     0       4.0\n",
      "11  2  3     1       2.0\n",
      "12  3  0     0       1.0\n",
      "13  3  1     0       2.0\n",
      "14  3  2     1       2.0\n",
      "15  3  3     1       2.0\n",
      "16  4  0     1       0.0\n",
      "17  4  1     0       2.0\n",
      "18  4  2     0       2.0\n",
      "19  4  3     0       2.0\n",
      "------------------------------\n",
      "    x  y  mine  adjacent\n",
      "0   0  0     0         2\n",
      "1   0  1     0         3\n",
      "2   0  2     1         2\n",
      "3   0  3     1         1\n",
      "4   1  0     1         1\n",
      "5   1  1     1         2\n",
      "6   1  2     0         4\n",
      "7   1  3     0         3\n",
      "8   2  0     0         2\n",
      "9   2  1     0         3\n",
      "10  2  2     0         4\n",
      "11  2  3     1         2\n",
      "12  3  0     0         1\n",
      "13  3  1     0         2\n",
      "14  3  2     1         2\n",
      "15  3  3     1         2\n",
      "16  4  0     1         0\n",
      "17  4  1     0         2\n",
      "18  4  2     0         2\n",
      "19  4  3     0         2\n"
     ]
    }
   ],
   "source": [
    "# task53\n",
    "# 现在为这个DataFrame创建一个名为'adjacent'的新列。\n",
    "# 这一栏应该包含在网格中相邻的方格中发现的地雷数量。\n",
    "# 例如，对于第一行，它是坐标(0,0)的条目，\n",
    "# 计算在坐标(0,1)、(1,0)和(1,1)上找到了多少地雷.\n",
    "# 第一种做法\n",
    "print(df1+[1,1,0])\n",
    "print('-'*30)\n",
    "df1['adjacent'] = df1.merge(df1+[1,1,0],on=['x','y'],how='left')\\\n",
    "    .merge(df1+[1,-1,0],on=['x','y'],how='left')\\\n",
    "    .merge(df1+[-1,1,0],on=['x','y'],how='left')\\\n",
    "    .merge(df1+[-1,-1,0],on=['x','y'],how='left')\\\n",
    "    .merge(df1+[1,0,0],on=['x','y'],how='left')\\\n",
    "    .merge(df1+[-1,0,0],on=['x','y'],how='left')\\\n",
    "    .merge(df1+[0,1,0],on=['x','y'],how='left') \\\n",
    "    .merge(df1 + [0,-1,0], on=['x', 'y'], how='left').iloc[:,3:].sum(axis=1)\n",
    "print(df1)\n",
    "print('-'*30)\n",
    "# 第二种做法\n",
    "from scipy.signal import convolve2d\n",
    "mine_grid = df1.pivot_table(columns='x',index='y',values='mine')\n",
    "counts = convolve2d(mine_grid.astype(complex),np.ones((3,3)),mode='same').real.astype(int)\n",
    "df1['adjacent'] = (counts - mine_grid).values.ravel('F')\n",
    "print(df1)"
   ]
  },
  {
   "cell_type": "code",
   "execution_count": 76,
   "metadata": {},
   "outputs": [
    {
     "name": "stdout",
     "output_type": "stream",
     "text": [
      "a    False\n",
      "b    False\n",
      "c     True\n",
      "d     True\n",
      "e     True\n",
      "f     True\n",
      "g    False\n",
      "h    False\n",
      "i    False\n",
      "j    False\n",
      "k    False\n",
      "l     True\n",
      "m    False\n",
      "n    False\n",
      "o     True\n",
      "p     True\n",
      "q     True\n",
      "r    False\n",
      "s    False\n",
      "t    False\n",
      "Name: mine, dtype: bool\n",
      "------------------------------\n",
      "   x  y  mine  adjacent\n",
      "c  0  2     1         2\n",
      "d  0  3     1         1\n",
      "e  1  0     1         1\n",
      "f  1  1     1         2\n",
      "l  2  3     1         2\n",
      "o  3  2     1         2\n",
      "p  3  3     1         2\n",
      "q  4  0     1         0\n",
      "------------------------------\n",
      "   x  y  mine  adjacent\n",
      "c  0  2     1         2\n",
      "d  0  3     1         1\n",
      "e  1  0     1         1\n",
      "f  1  1     1         2\n",
      "l  2  3     1         2\n",
      "o  3  2     1         2\n",
      "p  3  3     1         2\n",
      "q  4  0     1         0\n",
      "------------------------------\n",
      "   x  y  mine  adjacent\n",
      "a  0  0     0       2.0\n",
      "b  0  1     0       3.0\n",
      "c  0  2     1       NaN\n",
      "d  0  3     1       NaN\n",
      "e  1  0     1       NaN\n",
      "f  1  1     1       NaN\n",
      "g  1  2     0       4.0\n",
      "h  1  3     0       3.0\n",
      "i  2  0     0       2.0\n",
      "j  2  1     0       3.0\n",
      "k  2  2     0       4.0\n",
      "l  2  3     1       NaN\n",
      "m  3  0     0       1.0\n",
      "n  3  1     0       2.0\n",
      "o  3  2     1       NaN\n",
      "p  3  3     1       NaN\n",
      "q  4  0     1       NaN\n",
      "r  4  1     0       2.0\n",
      "s  4  2     0       2.0\n",
      "t  4  3     0       2.0\n"
     ]
    }
   ],
   "source": [
    "# task54\n",
    "# For rows of the DataFrame that contain a mine,\n",
    "# set the value in the 'adjacent' column to NaN.\n",
    "df1.index = list('abcdefghijklmnopqrst')\n",
    "print(df1['mine'] == 1)\n",
    "print('-'*30)\n",
    "print(df1[df1['mine'] == 1])\n",
    "print('-'*30)\n",
    "print(df1.loc[df1['mine'] == 1])\n",
    "print('-'*30)\n",
    "df1.loc[df1['mine'] == 1,'adjacent'] = np.nan\n",
    "print(df1)"
   ]
  },
  {
   "cell_type": "code",
   "execution_count": 77,
   "metadata": {},
   "outputs": [
    {
     "name": "stdout",
     "output_type": "stream",
     "text": [
      "  adjacent                    \n",
      "x        0    1    2    3    4\n",
      "y                             \n",
      "0      2.0  NaN  2.0  1.0  NaN\n",
      "1      3.0  NaN  3.0  2.0  2.0\n",
      "2      NaN  4.0  4.0  NaN  2.0\n",
      "3      NaN  3.0  NaN  NaN  2.0\n"
     ]
    }
   ],
   "source": [
    "# task55\n",
    "# 最后，将DataFrame转换为相邻矿数的网格:列为x坐标，行为y坐标。\n",
    "df1 = df1.drop('mine',axis=1).set_index(['y','x']).unstack()\n",
    "print(df1)"
   ]
  },
  {
   "cell_type": "code",
   "execution_count": 78,
   "metadata": {},
   "outputs": [
    {
     "name": "stdout",
     "output_type": "stream",
     "text": [
      "   xs  ys\n",
      "0   1   4\n",
      "1   5   2\n",
      "2   2   1\n",
      "3   8   9\n",
      "4   1   6\n",
      "------------------------------\n"
     ]
    },
    {
     "data": {
      "image/png": "[encoded data removed]",
      "text/plain": [
       "<Figure size 432x288 with 1 Axes>"
      ]
     },
     "metadata": {},
     "output_type": "display_data"
    }
   ],
   "source": [
    "# task56 引入 plt\n",
    "import matplotlib.pyplot as plt\n",
    "plt.style.use('ggplot')\n",
    "df1 = pd.DataFrame({'xs':[1,5,2,8,1],\\\n",
    "                    'ys':[4,2,1,9,6]})\n",
    "print(df1)\n",
    "print('-'*30)\n",
    "df1.plot.scatter('xs','ys',color='black',marker='x')\n",
    "plt.show()"
   ]
  },
  {
   "cell_type": "code",
   "execution_count": 79,
   "metadata": {},
   "outputs": [
    {
     "name": "stdout",
     "output_type": "stream",
     "text": [
      "    productivity  hours_in  happiness  caffienated\n",
      "0              5         1          2            0\n",
      "1              2         9          1            0\n",
      "2              3         6          3            1\n",
      "3              1         5          2            1\n",
      "4              4         3          3            0\n",
      "5              5         9          1            0\n",
      "6              6         2          2            0\n",
      "7              7         9          3            0\n",
      "8              8         1          1            1\n",
      "9              3         7          2            1\n",
      "10             4         4          2            0\n",
      "11             8         2          1            1\n",
      "12             9         2          3            0\n",
      "------------------------------\n"
     ]
    },
    {
     "data": {
      "image/png": "[encoded data removed]",
      "text/plain": [
       "<Figure size 432x288 with 1 Axes>"
      ]
     },
     "metadata": {},
     "output_type": "display_data"
    }
   ],
   "source": [
    "# task57\n",
    "# DataFrame中的列也可以用来修改颜色和大小。\n",
    "# 随着时间的推移，比尔一直在记录自己的工作表现，\n",
    "# 以及当天感觉如何，以及早上是否喝了一杯咖啡。\n",
    "# 制作一个包含该DataFrame的所有四个特性的图表。\n",
    "# (提示:如果你看不清楚情节，试着将你选择的表示大小的级数乘以10或10以上)\n",
    "# 图表不必很漂亮:这不是一门数据课!\n",
    "df1 = pd.DataFrame({'productivity':[5,2,3,1,4,5,6,7,8,3,4,8,9],\\\n",
    "                    'hours_in':[1,9,6,5,3,9,2,9,1,7,4,2,2],\\\n",
    "                    'happiness':[2,1,3,2,3,1,2,3,1,2,2,1,3],\\\n",
    "                    'caffienated':[0,0,1,1,0,0,0,0,1,1,0,1,0]})\n",
    "print(df1)\n",
    "print('-'*30)\n",
    "df1.plot.scatter('hours_in','productivity',s=df1['happiness']*30,c=df1.caffienated)\n",
    "plt.show()"
   ]
  },
  {
   "cell_type": "code",
   "execution_count": 80,
   "metadata": {},
   "outputs": [
    {
     "name": "stdout",
     "output_type": "stream",
     "text": [
      "    revenue  advertising  month\n",
      "0        57          2.1      0\n",
      "1        68          1.9      1\n",
      "2        63          2.7      2\n",
      "3        71          3.0      3\n",
      "4        72          3.6      4\n",
      "5        90          3.2      5\n",
      "6        80          2.7      6\n",
      "7        62          2.4      7\n",
      "8        59          1.8      8\n",
      "9        51          1.6      9\n",
      "10       47          1.3     10\n",
      "11       52          1.9     11\n",
      "----------------------------------------------------------------------\n"
     ]
    },
    {
     "data": {
      "image/png": "[encoded data removed]",
      "text/plain": [
       "<Figure size 432x288 with 2 Axes>"
      ]
     },
     "metadata": {},
     "output_type": "display_data"
    }
   ],
   "source": [
    "# task58\n",
    "# What if we want to plot multiple things?\n",
    "# Pandas allows you to pass in a matplotlib Axis object for plots,\n",
    "# and plots will also return an Axis object.\n",
    "# Make a bar plot of monthly revenue with a line plot of monthly advertising spending\n",
    "# (numbers in millions)\n",
    "# 如果我们想画多个东西呢?熊猫允许您传入一个matplotlib Axis对象用于绘图，而绘图也将返回一个Axis对象。\n",
    "# 用月度广告支出(以百万为单位)的线形图绘制月度收入条形图\n",
    "df1 = pd.DataFrame({'revenue':[57,68,63,71,72,90,80,62,59,51,47,52],\\\n",
    "                    'advertising':[2.1,1.9,2.7,3.0,3.6,3.2,2.7,2.4,1.8,1.6,1.3,1.9],\\\n",
    "                    'month':range(12)})\n",
    "print(df1)\n",
    "print('-'*70)\n",
    "a = df1.plot.bar('month','revenue',color = 'green')\n",
    "df1.plot.line('month','advertising',secondary_y = True,ax = a)\n",
    "a.set_xlim((-1,12))\n",
    "plt.show()"
   ]
  },
  {
   "cell_type": "code",
   "execution_count": 81,
   "metadata": {},
   "outputs": [],
   "source": [
    "# 补充\n",
    "# This function is designed to create semi-interesting random stock price data\n",
    "\n",
    "def float_to_time(x):\n",
    "    return str(int(x)) + \":\" + str(int(x % 1 * 60)).zfill(2) + \":\" + str(int(x * 60 % 1 * 60)).zfill(2)\n",
    "\n",
    "def day_stock_data():\n",
    "    # NYSE is open from 9:30 to 4:00\n",
    "    time = 9.5\n",
    "    price = 100\n",
    "    results = [(float_to_time(time), price)]\n",
    "    while time < 16:\n",
    "        elapsed = np.random.exponential(.001)\n",
    "        time += elapsed\n",
    "        if time > 16:\n",
    "            break\n",
    "        price_diff = np.random.uniform(.999, 1.001)\n",
    "        price *= price_diff\n",
    "        results.append((float_to_time(time), price))\n",
    "\n",
    "    df = pd.DataFrame(results, columns=['time', 'price'])\n",
    "    df.time = pd.to_datetime(df.time)\n",
    "    return df\n",
    "def plot_candlestick(agg):\n",
    "    fig, ax = plt.subplots()\n",
    "    for time in agg.index:\n",
    "        ax.plot([time.hour] * 2, agg.loc[time, [\"high\", \"low\"]].values, color=\"black\")\n",
    "        ax.plot([time.hour] * 2, agg.loc[time, [\"open\", \"close\"]].values, color=agg.loc[time, \"color\"], linewidth=10)\n",
    "\n",
    "    ax.set_xlim((8, 16))\n",
    "    ax.set_ylabel(\"Price\")\n",
    "    ax.set_xlabel(\"Hour\")\n",
    "    ax.set_title(\"OHLC of Stock Value During Trading Day\")\n",
    "    plt.show()"
   ]
  },
  {
   "cell_type": "code",
   "execution_count": 82,
   "metadata": {},
   "outputs": [
    {
     "name": "stdout",
     "output_type": "stream",
     "text": [
      "                 time       price\n",
      "0 2022-04-04 09:30:00  100.000000\n",
      "1 2022-04-04 09:30:00  100.041958\n",
      "2 2022-04-04 09:30:01  100.036769\n",
      "3 2022-04-04 09:30:02   99.966123\n",
      "4 2022-04-04 09:30:11   99.932539\n",
      "----------------------------------------------------------------------\n",
      "                           open        high         low       close  color\n",
      "time                                                                      \n",
      "2022-04-04 09:00:00  100.000000  101.824213   99.567950  101.763468  green\n",
      "2022-04-04 10:00:00  101.823732  104.749348  101.068280  102.453881  green\n",
      "2022-04-04 11:00:00  102.526536  105.512902  102.285231  104.352892  green\n",
      "2022-04-04 12:00:00  104.293413  105.464772  102.787846  102.820742    red\n",
      "2022-04-04 13:00:00  102.819832  106.555739  102.483549  105.853172  green\n"
     ]
    }
   ],
   "source": [
    "# task59\n",
    "# Generate a day's worth of random stock data,\n",
    "# and aggregate / reformat it so that it has hourly summaries of the opening,\n",
    "# highest, lowest, and closing prices\n",
    "# 随机生成一天的股票数据，并将其汇总/重新格式化，这样它就有了每小时的开盘、最高、最低和收盘价格的总结\n",
    "df1 = day_stock_data()\n",
    "a = df1.head()\n",
    "print(a)\n",
    "print('-'*70)\n",
    "df1.set_index('time',inplace=True)\n",
    "a = df1.resample('H').ohlc()\n",
    "a.columns = a.columns.droplevel()\n",
    "a['color'] = (a.close > a.open).map({True:'green',\\\n",
    "                                     False:'red'})\n",
    "print(a.head())"
   ]
  },
  {
   "cell_type": "code",
   "execution_count": 83,
   "metadata": {},
   "outputs": [
    {
     "data": {
      "image/png": "[encoded data removed]",
      "text/plain": [
       "<Figure size 432x288 with 1 Axes>"
      ]
     },
     "metadata": {},
     "output_type": "display_data"
    }
   ],
   "source": [
    "# task60\n",
    "# 现在您已经有了格式正确的数据，\n",
    "# 尝试自己将其绘制为烛台图。\n",
    "# 如果遇到问题，可以使用上面的plot_candlestick(df)函数，\n",
    "# 或者使用matplotlib的plot文档。\n",
    "plot_candlestick(a)"
   ]
  },
  {
   "cell_type": "code",
   "execution_count": null,
   "metadata": {},
   "outputs": [],
   "source": []
  }
 ],
 "metadata": {
  "kernelspec": {
   "display_name": "Python 3",
   "language": "python",
   "name": "python3"
  },
  "language_info": {
   "codemirror_mode": {
    "name": "ipython",
    "version": 3
   },
   "file_extension": ".py",
   "mimetype": "text/x-python",
   "name": "python",
   "nbconvert_exporter": "python",
   "pygments_lexer": "ipython3",
   "version": "3.7.6"
  }
 },
 "nbformat": 4,
 "nbformat_minor": 4
}
